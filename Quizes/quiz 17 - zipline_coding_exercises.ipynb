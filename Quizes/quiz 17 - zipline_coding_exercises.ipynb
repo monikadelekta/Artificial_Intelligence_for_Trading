{
 "cells": [
  {
   "cell_type": "markdown",
   "metadata": {},
   "source": [
    "# Zipline Coding Exercises\n",
    "\n",
    "In this notebook you will create your own pipeline and create custom factors and filters for it. "
   ]
  },
  {
   "cell_type": "markdown",
   "metadata": {},
   "source": [
    "### Install Packages"
   ]
  },
  {
   "cell_type": "code",
   "execution_count": 1,
   "metadata": {},
   "outputs": [
    {
     "name": "stdout",
     "output_type": "stream",
     "text": [
      ]
    },
    {
     "name": "stdout",
     "output_type": "stream",
     "text": [
      ]
    },
    {
     "name": "stdout",
     "output_type": "stream",
     "text": [
      "\r",
     ]
    },
    {
     "name": "stdout",
     "output_type": "stream",
     "text": [
      ]
    }
   ],
   "source": [
    "import sys\n",
    "!{sys.executable} -m pip install -r requirements.txt"
   ]
  },
  {
   "cell_type": "markdown",
   "metadata": {},
   "source": [
    "# Load Data"
   ]
  },
  {
   "cell_type": "code",
   "execution_count": 3,
   "metadata": {},
   "outputs": [
    {
     "name": "stderr",
     "output_type": "stream",
     "text": [
      "/opt/conda/lib/python3.6/site-packages/ipykernel_launcher.py:14: UserWarning: Overwriting bundle with name 'm4-quiz-eod-quotemedia'\n",
      "  \n"
     ]
    }
   ],
   "source": [
    "import os\n",
    "\n",
    "from zipline.data import bundles\n",
    "from zipline.data.bundles.csvdir import csvdir_equities\n",
    "\n",
    "\n",
    "# Specify the bundle name\n",
    "bundle_name = 'm4-quiz-eod-quotemedia'\n",
    "\n",
    "# Create an ingest function \n",
    "ingest_func = csvdir_equities(['daily'], bundle_name)\n",
    "\n",
    "# Register the data bundle and its ingest function\n",
    "bundles.register(bundle_name, ingest_func);\n",
    "\n",
    "# Set environment variable 'ZIPLINE_ROOT' to the path where the most recent data is located\n",
    "os.environ['ZIPLINE_ROOT'] = os.path.join(os.getcwd(), '..', '..', 'data', 'module_4_quizzes_eod')\n",
    "\n",
    "# Load the data bundle\n",
    "bundle_data = bundles.load(bundle_name)"
   ]
  },
  {
   "cell_type": "markdown",
   "metadata": {},
   "source": [
    "# TODO: Build an Empty Pipeline with a Screen\n",
    "\n",
    "In the code below create an empty with a screen that filters the pipeline output for stocks with a 60-day average dollar volume greater than \\$50,000."
   ]
  },
  {
   "cell_type": "code",
   "execution_count": 4,
   "metadata": {},
   "outputs": [],
   "source": [
    "# import resources\n",
    "from zipline.pipeline import Pipeline\n",
    "from zipline.pipeline.factors import AverageDollarVolume\n",
    "\n",
    "# Create a screen for our Pipeline\n",
    "universe = AverageDollarVolume(window_length = 60) > 50000\n",
    "\n",
    "# Create an empty Pipeline with the given screen\n",
    "pipeline = Pipeline(screen = universe)"
   ]
  },
  {
   "cell_type": "markdown",
   "metadata": {},
   "source": [
    "# TODO: Create a Pipeline Engine\n",
    "\n",
    "In the code below, create a data loader that loads our data bundle using Zipline's `USEquityPricingLoader`. Then create a function to be passed to the `get_loader` parameter in the pipeline engine. Using the NYSE trading calendar create a pipeline engine using Zipline's `SimplePipelineEngine`"
   ]
  },
  {
   "cell_type": "code",
   "execution_count": 5,
   "metadata": {},
   "outputs": [],
   "source": [
    "# import resources\n",
    "from zipline.pipeline.loaders import USEquityPricingLoader\n",
    "from zipline.utils.calendars import get_calendar\n",
    "from zipline.pipeline.data import USEquityPricing\n",
    "from zipline.pipeline.engine import SimplePipelineEngine\n",
    "\n",
    "# Set the dataloader\n",
    "pricing_loader = USEquityPricingLoader(bundle_data.equity_daily_bar_reader, bundle_data.adjustment_reader)\n",
    "\n",
    "# Define the function for the get_loader parameter\n",
    "def choose_loader(column):\n",
    "    if column not in USEquityPricing.columns:\n",
    "        raise Exception('Column not in USEquityPricing')\n",
    "    return pricing_loader\n",
    "\n",
    "# Set the trading calendar\n",
    "trading_calendar = get_calendar('NYSE')\n",
    "\n",
    "# Create a Pipeline engine\n",
    "engine = SimplePipelineEngine(get_loader = choose_loader,\n",
    "                              calendar = trading_calendar.all_sessions,\n",
    "                              asset_finder = bundle_data.asset_finder)"
   ]
  },
  {
   "cell_type": "markdown",
   "metadata": {},
   "source": [
    "# TODO: Create Factors and Filters For The Pipeline\n",
    "\n",
    "### Factors\n",
    "\n",
    "In the code below, create two factors:\n",
    "\n",
    "1. **Custom Factor**: Create a custom factor, `percent_difference`,  by combining a 30-day average closing price factor and a 60-average closing price factor. The `percent_difference` factor will calculate the difference between the 30-day and 60-average closing price factors, and will then normalize this difference by the 60-average closing price factor.\n",
    "\n",
    "\n",
    "2. **Daily Returns Factor**: Create a factor that returns the daily percent change in closing price. To do this, use Zipline's built-in [DailyReturns](https://www.zipline.io/appendix.html#zipline.pipeline.factors.DailyReturns) factor.\n",
    "\n",
    "Both factors should use the closing prices in the `USEquityPricing`  dataset as inputs. \n",
    "\n",
    "\n",
    "\n",
    "\n",
    "### Filters\n",
    "\n",
    "In the code below, you will create a **Custom Filter**, `tradable_asset`, that returns `True` for the top 20 securities of average dollar volume in a 30 day-window that have a latest closing price above \\$30. To do this, you will create two filters first and them combine them. For the first filter, you can use Zipline's built-in factor `AverageDollarVolume()` and its method `.top()` to select the top 20 assets of average dollar volume in a 30 day-window. To get the latest close price of the `USEquityPricing` dataset you can use `USEquityPricing.close.latest`. Finally you can combine these two filters by using the logical operator `&`. "
   ]
  },
  {
   "cell_type": "code",
   "execution_count": 6,
   "metadata": {},
   "outputs": [],
   "source": [
    "# import resources\n",
    "from zipline.pipeline.factors import SimpleMovingAverage, DailyReturns\n",
    "import pandas as pd\n",
    "\n",
    "# Create the 30-day average closing price factor\n",
    "mean_close_30 = SimpleMovingAverage(inputs = [USEquityPricing.close], window_length = 30)\n",
    "\n",
    "# Create the 60-day average closing price factor\n",
    "mean_close_60 = SimpleMovingAverage(inputs = [USEquityPricing.close], window_length = 60)\n",
    "\n",
    "# Create the custom factor\n",
    "percent_difference = (mean_close_30 - mean_close_60) / mean_close_60\n",
    "\n",
    "# Create the daily returns factor\n",
    "daily_ret = DailyReturns(inputs=[USEquityPricing.close])\n",
    "\n",
    "# Create a filter for the top 20 securities of average dollar volume in a 30 day-window\n",
    "top_20 = AverageDollarVolume(window_length=30).top(20)\n",
    "\n",
    "# Create a filter for the latest closing price above $30\n",
    "above_30 = USEquityPricing.close.latest > 30\n",
    "\n",
    "# Create a custum filter\n",
    "tradable_asset = top_20 & above_30"
   ]
  },
  {
   "cell_type": "markdown",
   "metadata": {},
   "source": [
    "# TODO: Add Factors and Filters To The Pipeline\n",
    "\n",
    "In the code below, add the factors and filters you created above to the pipeline"
   ]
  },
  {
   "cell_type": "code",
   "execution_count": 7,
   "metadata": {},
   "outputs": [],
   "source": [
    "# Add the custom factor to the pipeline\n",
    "pipeline.add(percent_difference, 'Percent Difference')\n",
    "\n",
    "# Add the daily returns factor to the pipeline\n",
    "pipeline.add(daily_ret, 'Daily Return')\n",
    "\n",
    "# Add the custom filter to the pipeline\n",
    "pipeline.add(tradable_asset, 'Tradable')"
   ]
  },
  {
   "cell_type": "markdown",
   "metadata": {},
   "source": [
    "# TODO: Run The Pipeline\n",
    "\n",
    "In the code below, run the pipeline for the dates given"
   ]
  },
  {
   "cell_type": "code",
   "execution_count": 8,
   "metadata": {},
   "outputs": [
    {
     "data": {
      "text/html": [
       "<div>\n",
       "<style scoped>\n",
       "    .dataframe tbody tr th:only-of-type {\n",
       "        vertical-align: middle;\n",
       "    }\n",
       "\n",
       "    .dataframe tbody tr th {\n",
       "        vertical-align: top;\n",
       "    }\n",
       "\n",
       "    .dataframe thead th {\n",
       "        text-align: right;\n",
       "    }\n",
       "</style>\n",
       "<table border=\"1\" class=\"dataframe\">\n",
       "  <thead>\n",
       "    <tr style=\"text-align: right;\">\n",
       "      <th></th>\n",
       "      <th></th>\n",
       "      <th>Daily Return</th>\n",
       "      <th>Percent Difference</th>\n",
       "      <th>Tradable</th>\n",
       "    </tr>\n",
       "  </thead>\n",
       "  <tbody>\n",
       "    <tr>\n",
       "      <th rowspan=\"5\" valign=\"top\">2014-01-06 00:00:00+00:00</th>\n",
       "      <th>Equity(0 [A])</th>\n",
       "      <td>0.006951</td>\n",
       "      <td>0.025939</td>\n",
       "      <td>False</td>\n",
       "    </tr>\n",
       "    <tr>\n",
       "      <th>Equity(1 [AAL])</th>\n",
       "      <td>0.046523</td>\n",
       "      <td>0.055887</td>\n",
       "      <td>False</td>\n",
       "    </tr>\n",
       "    <tr>\n",
       "      <th>Equity(2 [AAP])</th>\n",
       "      <td>0.028611</td>\n",
       "      <td>0.051009</td>\n",
       "      <td>False</td>\n",
       "    </tr>\n",
       "    <tr>\n",
       "      <th>Equity(3 [AAPL])</th>\n",
       "      <td>-0.021972</td>\n",
       "      <td>0.035906</td>\n",
       "      <td>True</td>\n",
       "    </tr>\n",
       "    <tr>\n",
       "      <th>Equity(4 [ABBV])</th>\n",
       "      <td>0.006147</td>\n",
       "      <td>0.033018</td>\n",
       "      <td>False</td>\n",
       "    </tr>\n",
       "  </tbody>\n",
       "</table>\n",
       "</div>"
      ],
      "text/plain": [
       "                                            Daily Return  Percent Difference  \\\n",
       "2014-01-06 00:00:00+00:00 Equity(0 [A])         0.006951            0.025939   \n",
       "                          Equity(1 [AAL])       0.046523            0.055887   \n",
       "                          Equity(2 [AAP])       0.028611            0.051009   \n",
       "                          Equity(3 [AAPL])     -0.021972            0.035906   \n",
       "                          Equity(4 [ABBV])      0.006147            0.033018   \n",
       "\n",
       "                                            Tradable  \n",
       "2014-01-06 00:00:00+00:00 Equity(0 [A])        False  \n",
       "                          Equity(1 [AAL])      False  \n",
       "                          Equity(2 [AAP])      False  \n",
       "                          Equity(3 [AAPL])      True  \n",
       "                          Equity(4 [ABBV])     False  "
      ]
     },
     "execution_count": 8,
     "metadata": {},
     "output_type": "execute_result"
    }
   ],
   "source": [
    "# Set starting and end dates\n",
    "start_date = pd.Timestamp('2014-01-06', tz='utc')\n",
    "end_date = pd.Timestamp('2016-01-05', tz='utc')\n",
    "\n",
    "# Run our pipeline for the given start and end dates\n",
    "output = engine.run_pipeline(pipeline, start_date, end_date)\n",
    "\n",
    "# Display the pipeline output\n",
    "output.head()"
   ]
  },
  {
   "cell_type": "markdown",
   "metadata": {},
   "source": [
    "## Solution\n",
    "\n",
    "[Solution notebook](zipline_coding_exercises_solution.ipynb)"
   ]
  }
 ],
 "metadata": {
  "kernelspec": {
   "display_name": "Python 3",
   "language": "python",
   "name": "python3"
  },
  "language_info": {
   "codemirror_mode": {
    "name": "ipython",
    "version": 3
   },
   "file_extension": ".py",
   "mimetype": "text/x-python",
   "name": "python",
   "nbconvert_exporter": "python",
   "pygments_lexer": "ipython3",
   "version": "3.6.3"
  }
 },
 "nbformat": 4,
 "nbformat_minor": 2
}
